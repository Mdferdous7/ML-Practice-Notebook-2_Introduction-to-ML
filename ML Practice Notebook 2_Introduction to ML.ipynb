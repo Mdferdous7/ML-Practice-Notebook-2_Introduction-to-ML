{
 "cells": [
  {
   "cell_type": "markdown",
   "metadata": {
    "id": "rriL8fYqW0gG"
   },
   "source": [
    "# M3 - M4\n",
    "Machine Learning & Linear Regression\n",
    "\n",
    " - Instructor: Sabya DG\n"
   ]
  },
  {
   "cell_type": "markdown",
   "metadata": {
    "id": "AH8Vu2UaW0gH"
   },
   "source": [
    "## Agenda\n",
    "1. Machine Learning\n",
    "    - Supervised vs. Unsupervised Learning\n",
    "2. Supervised Learning\n",
    "    - `X` and `y`\n",
    "    - Regression vs. Classification    \n",
    "    - The golden rule: train/test split\n",
    "3. Simple Linear Regression\n",
    "4. Polynomial Regression"
   ]
  },
  {
   "cell_type": "markdown",
   "metadata": {
    "id": "3aFqZFylW0gH"
   },
   "source": [
    "## Machine Learning\n"
   ]
  },
  {
   "cell_type": "markdown",
   "metadata": {
    "id": "j7B8DAliW0gI"
   },
   "source": [
    "## Definition of ML / What is ML?\n",
    "\n",
    "Seen as a subset of AI. ML algorithms build a model based on sample data (training data), in order to make predictions without being explicitly programmed to do so.\n",
    "\n",
    "A field of study that gives computers the ability to learn without being explicitly programmed.\n",
    "– Arthur Samuel (1959)"
   ]
  },
  {
   "cell_type": "markdown",
   "metadata": {
    "id": "wpMYTHuQXFnc"
   },
   "source": []
  },
  {
   "cell_type": "markdown",
   "metadata": {
    "id": "ZZsGAu3nW0gJ"
   },
   "source": [
    "# Types of Machine Learning: Supervised and Unsupervised"
   ]
  },
  {
   "cell_type": "markdown",
   "metadata": {
    "id": "L3MvM6SaW0gJ"
   },
   "source": [
    "## Machine Learning: Supervised Learning\n",
    "- In supervised learning, we have a set of observations (__*X*__) with an associated target (__*y*__)\n",
    "- We wish to find a model function that relates __*X*__ to __*y*__\n",
    "- Then use that model function to predict future observations\n",
    "\n"
   ]
  },
  {
   "cell_type": "markdown",
   "metadata": {
    "id": "WYwQnOtNW0gJ"
   },
   "source": [
    "## Machine Learning: Unsupervised Learning\n",
    "- We have __*X*__ (the data) but no __*y*__ (associated target)\n",
    "\n"
   ]
  },
  {
   "cell_type": "markdown",
   "metadata": {
    "id": "pXVjocaVW0gJ"
   },
   "source": [
    "# Types of Supervised Learning: Regression and Classification"
   ]
  },
  {
   "cell_type": "markdown",
   "metadata": {
    "id": "M04XdHt9W0gJ"
   },
   "source": [
    "## Classification vs. Regression\n",
    "\n",
    "* Classification problems: predicting among two or more categories, also known as classes\n",
    "    - Predict whether a patient has a liver disease or not\n",
    "    - Predict whether the letter grade of a student (A, B, C, D or F)\n",
    "* Regression problem: predicting a continuous (in other words, a number) value\n",
    "    - Predict house prices\n",
    "    - Predict someone's age from their photo"
   ]
  },
  {
   "cell_type": "markdown",
   "metadata": {
    "id": "ALIG4JDRW0gJ"
   },
   "source": [
    "## The golden rule\n",
    "- When you're doing supervised learning, now that you've identified **X** and **y**\n",
    "- **You need to split your data into train and test**\n",
    "- **You only work with the training data**\n",
    "\n",
    "### Why?\n",
    "- As soon as you start making decisions on what features to include, drop etc., you are letting a part of the test data influence your decision-making\n",
    "- Your results will not be truly representative of \"unseen data\""
   ]
  },
  {
   "cell_type": "markdown",
   "metadata": {
    "id": "52byPdDAW0gJ"
   },
   "source": [
    "## The big picture\n",
    "- We train using the **training data**\n",
    "- We test what is learned by the model on the **test data**\n",
    "- We have two scores: **training** vs. **test**\n",
    "\n",
    "### Which matters more?\n",
    "- It doesn't matter how good our **training score** is because the **test score is what matters**\n",
    "- Good models that generalize well though will have **similar training and testing scores**\n",
    "\n",
    "**We want to pick models that generalize well to unseen data**"
   ]
  },
  {
   "cell_type": "markdown",
   "metadata": {
    "id": "YpHDKGDPW0gJ"
   },
   "source": [
    "## The fundamental tradeoff\n",
    "\n",
    "| Model | Training Score relative to Test Score | Performance |\n",
    "|:-|:-|:-|\n",
    "| Too Complex|High training score compared to test score| Overfit |\n",
    "|Too Simple|Low training score and low test score|Underfit|\n",
    "\n",
    "- Models that have **extremely high training scores** (that are too good to be true) that are **highly complex** that learned very complex relationships in the training data **can be overfit**\n",
    "- On the other hand, models that have **low training scores** that are **very simple** may not have learned the necessary relationships in the training data needed to predict well on unseen data; they are **underfit**"
   ]
  },
  {
   "cell_type": "markdown",
   "metadata": {
    "id": "rdKCotllW0gK"
   },
   "source": [
    "![img](https://miro.medium.com/max/2250/1*_7OPgojau8hkiPUiHoGK_w.png)"
   ]
  },
  {
   "cell_type": "markdown",
   "metadata": {
    "id": "UU_NxLr_W0gK"
   },
   "source": [
    "## Minimizing approximation error ...\n",
    "... means that our model generalizes well\n",
    "\n",
    "\n",
    "$$E_{approx} = (E_{test} - E_{train})$$\n",
    "\n",
    "- There is generally a \"trade-off\" between complexity and test error\n",
    "- A more complex model will fit closer to the peculiarities of the training data\n",
    "    - i.e., $E_{approx}\\;$ tends to get bigger as our model becomes more complex\n",
    "- This means it will likely not generalise well to new data!\n",
    "- $E_{approx}\\;$ tends to get smaller with more data"
   ]
  },
  {
   "cell_type": "markdown",
   "metadata": {
    "id": "NEbiVDhrW0gK"
   },
   "source": [
    "## The fundamental tradeoff (part 2)\n",
    "... In the \"bias-variance\" language\n",
    "\n",
    "- **The bias error** is an error from erroneous assumptions in the learning algorithm. High bias can cause an algorithm to miss the relevant relations between features and target outputs (underfitting).\n",
    "- **The variance** is an error from sensitivity to small fluctuations in the training set. High variance can cause an algorithm to model the random noise in the training data, rather than the intended outputs (overfitting)."
   ]
  },
  {
   "cell_type": "markdown",
   "metadata": {
    "id": "9f9nhMRoW0gK"
   },
   "source": [
    "## Linear Regression\n",
    "\n",
    "- Linear regression is one of the most basic and popular ML/statistical techniques.\n",
    "- Used as a predictive model\n",
    "- Assumes a linear relationship between the dependent variable (which is the variable we are trying to predict/estimate, **y**) and the independent variable/s (input variable/s used in the prediction, **X**)\n",
    "\n",
    "### Let's start with **simple** linear regression\n",
    "- Only one independent/input variable is used to predict the dependent variable."
   ]
  },
  {
   "cell_type": "markdown",
   "metadata": {
    "id": "9xTeqIDfW0gK"
   },
   "source": [
    "## Simple Linear Regression\n",
    "\n",
    "$$\\hat{y} = wx + b$$\n",
    "\n",
    "$\\hat{y}$ = Dependent variable\n",
    "\n",
    "$b$ = Constant\n",
    "\n",
    "$w$ = Coefficients\n",
    "\n",
    "$x$ = Independent variable"
   ]
  },
  {
   "cell_type": "markdown",
   "metadata": {
    "id": "z6_VScMmW0gK"
   },
   "source": [
    "## Multiple Linear Regression\n",
    "- Many $x$'s and $w$'s\n",
    "\n",
    "$$\\hat{y} = w_1x_1 + w_2x_2 + ... + b$$\n",
    "\n",
    "- The larger the value of $w_i$, the more influence $x_i$ has on the target $\\hat{y}$"
   ]
  },
  {
   "cell_type": "markdown",
   "metadata": {
    "id": "51V195U8W0gK"
   },
   "source": [
    "## Matrix representation\n",
    "\n",
    "- $\\hat{y}$ is the linear function of features $x$ and weights $w$.\n",
    "\n",
    "$$\\hat{y} = w^Tx + b$$\n",
    "        \n",
    "- $\\hat{y} \\rightarrow$ prediction\n",
    "- $w \\rightarrow$ weight vector\n",
    "- $b \\rightarrow$ bias\n",
    "- $x \\rightarrow$ features\n",
    "\n",
    "$$\\hat{y} = \\begin{bmatrix}w_1 & w_2 & \\cdots & w_d\\end{bmatrix}\\begin{bmatrix}x_1 \\\\ x_2 \\\\ \\vdots \\\\ x_d\\end{bmatrix} + b$$"
   ]
  },
  {
   "cell_type": "markdown",
   "metadata": {
    "id": "gi3p8gHwW0gK"
   },
   "source": [
    "## Matrix representation for multiple predictions\n",
    "\n",
    "$$\\hat{y} = w^TX + b$$\n",
    "        \n",
    "\n",
    "$$\\hat{y} = \\begin{bmatrix}w_1 & w_2 & \\cdots & w_d\\end{bmatrix}\\begin{bmatrix}x^{(1)}_1 & x^{(2)}_1 & \\ldots &x^{(n)}_1\\\\ x^{(1)}_2 & x^{(2)}_2 & \\ldots & x^{(n)}_2 \\\\ \\vdots & \\vdots & \\ldots \\\\ x^{(1)}_d & x^{(2)}_d & \\ldots & x^{(n)}_d\\end{bmatrix} + b$$"
   ]
  },
  {
   "cell_type": "markdown",
   "metadata": {
    "id": "Pt5ui9E2W0gK"
   },
   "source": [
    "## Let's try it!\n"
   ]
  },
  {
   "cell_type": "markdown",
   "metadata": {
    "id": "Pz1MeiMtW0gK"
   },
   "source": [
    "Let's start simple and imagine we have a dataset of Height and Weight. Let Height be our feature and Weight our Target."
   ]
  },
  {
   "cell_type": "code",
   "execution_count": 8,
   "metadata": {
    "id": "WheC0lTbW0gL"
   },
   "outputs": [],
   "source": [
    "# Import necessary libraries\n"
   ]
  },
  {
   "cell_type": "code",
   "execution_count": null,
   "metadata": {
    "id": "UfySDEg3W0gL"
   },
   "outputs": [],
   "source": [
    "# Import the pandas library for data manipulation\n",
    "\n",
    "# Read the CSV file into a DataFrame\n",
    "\n",
    "# Display the first 5 rows of the DataFrame to inspect the data structure\n"
   ]
  },
  {
   "cell_type": "code",
   "execution_count": null,
   "metadata": {
    "id": "fnTAI2Dko9Ks"
   },
   "outputs": [],
   "source": [
    "# Retrieve and display the column names of the DataFrame\n"
   ]
  },
  {
   "cell_type": "code",
   "execution_count": null,
   "metadata": {
    "id": "Q6HmLEXrW0gM"
   },
   "outputs": [],
   "source": [
    "# Import the LinearRegression model from scikit-learn's linear_model module\n",
    "\n",
    "# Prepare the feature (X) and target (y) variables for training\n",
    "\n",
    "# 'Weight' is used as the target variable (output)\n",
    "\n",
    "# Create an instance of the LinearRegression model\n",
    "\n"
   ]
  },
  {
   "cell_type": "code",
   "execution_count": null,
   "metadata": {
    "id": "VrT3QgREW0gM"
   },
   "outputs": [],
   "source": [
    "# Train the LinearRegression model using the training data\n"
   ]
  },
  {
   "cell_type": "code",
   "execution_count": null,
   "metadata": {
    "id": "_gaeF2rNW0gM"
   },
   "outputs": [],
   "source": [
    "# Using the trained LinearRegression model to make predictions on the training data (height)\n"
   ]
  },
  {
   "cell_type": "code",
   "execution_count": null,
   "metadata": {
    "id": "Fi8KcwEDW0gM"
   },
   "outputs": [],
   "source": [
    "# Retrieve the coefficient (slope) of the trained LinearRegression model\n"
   ]
  },
  {
   "cell_type": "code",
   "execution_count": null,
   "metadata": {
    "id": "ZN7rVrP1W0gM"
   },
   "outputs": [],
   "source": [
    "# Retrieve the intercept of the trained LinearRegression model\n"
   ]
  },
  {
   "cell_type": "code",
   "execution_count": null,
   "metadata": {
    "id": "7F3AG0AyW0gM"
   },
   "outputs": [],
   "source": [
    "# Plot a scatter plot of the training data (height vs. weight)\n",
    "\n",
    "# Plot the linear regression line using the learned coefficient and intercept\n",
    "\n",
    "# Display the plot\n",
    "\n"
   ]
  },
  {
   "cell_type": "code",
   "execution_count": null,
   "metadata": {
    "id": "MTBhoODpW0gN"
   },
   "outputs": [],
   "source": [
    "# Evaluate the performance of the LinearRegression model using the R-squared score\n"
   ]
  },
  {
   "cell_type": "markdown",
   "metadata": {
    "id": "4mnzmlvLW0gN"
   },
   "source": [
    "## Coefficients and Intercept\n",
    "\n",
    "The intuition behind Linear Regression is in the coefficients and intercept.\n",
    "\n",
    "Some people refer to the coefficients as weights and the intercept as the bias. The 'Weights' and 'Bias' are what is being learned during `fit`."
   ]
  },
  {
   "cell_type": "markdown",
   "metadata": {
    "id": "VYIsJlwEW0gN"
   },
   "source": [
    "## Let's load the California Housing Data Set\n",
    "\n",
    "[Documentation](https://scikit-learn.org/stable/datasets/real_world.html#california-housing-dataset)"
   ]
  },
  {
   "cell_type": "code",
   "execution_count": null,
   "metadata": {
    "id": "VD690F5bW0gN"
   },
   "outputs": [],
   "source": [
    "# Import the fetch_california_housing function from scikit-learn's datasets module\n",
    "\n",
    "# Fetch the California housing dataset and storing it in the variable 'california'\n"
   ]
  },
  {
   "cell_type": "markdown",
   "metadata": {
    "id": "EnY_43iKW0gU",
    "jp-MarkdownHeadingCollapsed": true,
    "tags": []
   },
   "source": [
    "## The golden rule\n",
    "- **You need to split your data into train and test**\n"
   ]
  },
  {
   "cell_type": "markdown",
   "metadata": {
    "id": "ZPAxvZWqW0gU"
   },
   "source": [
    "## So... how do we split?\n",
    "- Most common way is to use `train_test_split` in `sklearn`\n",
    "- Shuffles the data first and then splits it\n",
    "- 80/20, 75/25, 70/30 are common splits"
   ]
  },
  {
   "cell_type": "markdown",
   "metadata": {
    "id": "u7SkRd0jW0gU"
   },
   "source": [
    "## Splitting out our X and y\n",
    "- In this case, we are working with a regression problem. Could you say why?\n",
    "- What are the features?\n",
    "- What is the target?"
   ]
  },
  {
   "cell_type": "code",
   "execution_count": null,
   "metadata": {
    "id": "M8IVtkRWW0gU"
   },
   "outputs": [],
   "source": [
    "# Create a DataFrame for the features (input variables) from the California housing dataset\n",
    "\n",
    "# Create a DataFrame for the target variable (output) from the California housing dataset\n",
    "\n",
    "# Display the first 5 rows of the features DataFrame to inspect the data structure\n"
   ]
  },
  {
   "cell_type": "code",
   "execution_count": null,
   "metadata": {
    "id": "V3WHxO3EW0gU"
   },
   "outputs": [],
   "source": [
    "# Display the first 5 rows of the target variable DataFrame to inspect the data structure\n"
   ]
  },
  {
   "cell_type": "code",
   "execution_count": null,
   "metadata": {
    "id": "NDjmr67tW0gV"
   },
   "outputs": [],
   "source": [
    "# Import the train_test_split function from scikit-learn's model_selection module\n",
    "\n",
    "# Split the data into training and testing sets\n",
    "\n"
   ]
  },
  {
   "cell_type": "code",
   "execution_count": null,
   "metadata": {
    "id": "CQrGDt2Hgb7S"
   },
   "outputs": [],
   "source": [
    "# Print the total number of records in the combined training and testing data"
   ]
  },
  {
   "cell_type": "code",
   "execution_count": null,
   "metadata": {
    "id": "rZuJXUtuhgQV"
   },
   "outputs": [],
   "source": [
    " # Retrieve the total number of records (rows) in the features DataFrame (X)\n"
   ]
  },
  {
   "cell_type": "code",
   "execution_count": null,
   "metadata": {
    "id": "WqEithnoW0gV"
   },
   "outputs": [],
   "source": [
    "# Retrieving the shape of the training features DataFrame (X_train)\n"
   ]
  },
  {
   "cell_type": "code",
   "execution_count": null,
   "metadata": {
    "id": "55IMaKd6W0gV"
   },
   "outputs": [],
   "source": [
    "# Retrieve the shape of the testing features DataFrame (X_test)\n"
   ]
  },
  {
   "cell_type": "code",
   "execution_count": null,
   "metadata": {
    "id": "vPxqbkSZW0gV"
   },
   "outputs": [],
   "source": [
    "# Calculating the proportion of training samples to the total number of samples\n"
   ]
  },
  {
   "cell_type": "code",
   "execution_count": null,
   "metadata": {
    "id": "NtshOPzfW0gV"
   },
   "outputs": [],
   "source": [
    "# Generating descriptive statistics for the features DataFrame (X)\n"
   ]
  },
  {
   "cell_type": "markdown",
   "metadata": {
    "id": "1Uiv_UvPW0gV"
   },
   "source": [
    "## Scaling the data"
   ]
  },
  {
   "cell_type": "code",
   "execution_count": null,
   "metadata": {
    "id": "L_tXncnjW0gV"
   },
   "outputs": [],
   "source": [
    "# Importing the StandardScaler class from scikit-learn's preprocessing module\n",
    "\n",
    "# Creating an instance of the StandardScaler\n",
    "\n",
    "# Fitting the scaler to the training data and transforming it\n"
   ]
  },
  {
   "cell_type": "code",
   "execution_count": null,
   "metadata": {
    "id": "S3CZpMRhW0gV"
   },
   "outputs": [],
   "source": [
    "# Creating a DataFrame for the scaled training features\n",
    "\n",
    "# Generating descriptive statistics for the scaled training features DataFrame\n"
   ]
  },
  {
   "cell_type": "code",
   "execution_count": null,
   "metadata": {
    "id": "yDcGHsdwi-bV"
   },
   "outputs": [],
   "source": [
    "#X_train_scaled_df.head()\n"
   ]
  },
  {
   "cell_type": "code",
   "execution_count": null,
   "metadata": {
    "id": "kJbQh1dJixJG"
   },
   "outputs": [],
   "source": [
    "#sn.distplot(X_train['Population'], kde=True)\n"
   ]
  },
  {
   "cell_type": "markdown",
   "metadata": {
    "id": "p5PXe_8QW0gV"
   },
   "source": [
    "## Training the model"
   ]
  },
  {
   "cell_type": "code",
   "execution_count": null,
   "metadata": {
    "id": "xVbufSTOW0gV"
   },
   "outputs": [],
   "source": [
    "# Importing the LinearRegression model from scikit-learn's linear_model module\n",
    "\n",
    "# Creating an instance of the LinearRegression model\n",
    "\n",
    "# Training the LinearRegression model using the scaled training features (X_train_scaled) and the target variable (y_train)\n"
   ]
  },
  {
   "cell_type": "code",
   "execution_count": null,
   "metadata": {
    "id": "HZCTfcVVW0gW"
   },
   "outputs": [],
   "source": [
    "# Retrieve and display the coefficients (slopes) of the trained LinearRegression model\n"
   ]
  },
  {
   "cell_type": "code",
   "execution_count": null,
   "metadata": {
    "id": "MzS6q7QcW0gW"
   },
   "outputs": [],
   "source": [
    "# Retrieve and display the intercept of the trained LinearRegression model\n"
   ]
  },
  {
   "cell_type": "code",
   "execution_count": null,
   "metadata": {
    "id": "CfYUqEb1W0gW"
   },
   "outputs": [],
   "source": [
    "# Creating and display a DataFrame to organize the coefficients of the trained LinearRegression model\n"
   ]
  },
  {
   "cell_type": "markdown",
   "metadata": {
    "id": "zfWRXbHIW0gW"
   },
   "source": [
    "Let’s try to make some sense of it here!\n",
    "\n",
    "We can use these coefficients to interpret our model. They show us how much each of these features affects our model’s prediction."
   ]
  },
  {
   "cell_type": "markdown",
   "metadata": {
    "id": "DAespdMFW0gW"
   },
   "source": [
    "**IMPORTANT**\n",
    "In linear models:\n",
    "\n",
    "* if the coefficient is +, then if the feature value goes UP the predicted value goes UP\n",
    "* if the coefficient is -, then if the feature values goes UP the predicted value goes DOWN\n",
    "* if the coefficient is 0, the feature is not used in making a prediction"
   ]
  },
  {
   "cell_type": "markdown",
   "metadata": {
    "id": "5EkVyUSlW0gW"
   },
   "source": [
    "## Feature Importances"
   ]
  },
  {
   "cell_type": "code",
   "execution_count": null,
   "metadata": {
    "id": "9SwdRXzBW0gW"
   },
   "outputs": [],
   "source": [
    "# Import the statsmodels library for statistical modeling\n",
    "\n",
    "# Create an Ordinary Least Squares (OLS) regression model\n",
    "\n",
    "# Fit the OLS model to the training data\n"
   ]
  },
  {
   "cell_type": "code",
   "execution_count": null,
   "metadata": {
    "id": "REuWRNSzW0gW"
   },
   "outputs": [],
   "source": [
    "# Retrieve the estimated parameters (coefficients) of the fitted OLS regression model\n"
   ]
  },
  {
   "cell_type": "code",
   "execution_count": null,
   "metadata": {
    "id": "qp8Z_fobW0gW"
   },
   "outputs": [],
   "source": [
    "# Generate a summary of the fitted OLS regression model\n"
   ]
  },
  {
   "cell_type": "code",
   "execution_count": null,
   "metadata": {
    "id": "OtCFTn8DpxZX"
   },
   "outputs": [],
   "source": [
    "# Install the rfpimp package, which is used for Random Forest Feature Importance"
   ]
  },
  {
   "cell_type": "code",
   "execution_count": null,
   "metadata": {
    "id": "60XfMLuYW0gX"
   },
   "outputs": [],
   "source": [
    "# Import all necessary functions and classes from the rfpimp package\n"
   ]
  },
  {
   "cell_type": "code",
   "execution_count": null,
   "metadata": {
    "id": "_BPSHfSnW0gX"
   },
   "outputs": [],
   "source": [
    "# Create a DataFrame for the scaled training features using the original feature names (from X)\n",
    "\n",
    "# Calculate and plot the feature importances using the importances function from rfpimp\n"
   ]
  },
  {
   "cell_type": "code",
   "execution_count": null,
   "metadata": {
    "id": "wQOzd3TGW0gX"
   },
   "outputs": [],
   "source": [
    "# Define a function to display feature importances for a given model and dataset\n"
   ]
  },
  {
   "cell_type": "markdown",
   "metadata": {
    "id": "7-Uc2mM3W0gX"
   },
   "source": [
    "## Predicting"
   ]
  },
  {
   "cell_type": "code",
   "execution_count": null,
   "metadata": {
    "id": "obHsHeZ6W0gX"
   },
   "outputs": [],
   "source": [
    "# Scaling the testing features\n"
   ]
  },
  {
   "cell_type": "code",
   "execution_count": null,
   "metadata": {
    "id": "c4mCOrAHW0gX"
   },
   "outputs": [],
   "source": [
    "# Use the trained LinearRegression model to make predictions\n"
   ]
  },
  {
   "cell_type": "code",
   "execution_count": null,
   "metadata": {
    "id": "vxz-w29OW0gX"
   },
   "outputs": [],
   "source": [
    "# Retrieve the actual target values from the test set\n"
   ]
  },
  {
   "cell_type": "markdown",
   "metadata": {
    "id": "jqzU859jW0gX"
   },
   "source": [
    "## Prediction By Hand"
   ]
  },
  {
   "cell_type": "code",
   "execution_count": null,
   "metadata": {
    "id": "TU0tHwnWW0gX"
   },
   "outputs": [],
   "source": [
    "# Retrieving the coefficients (slopes) of the trained LinearRegression model\n"
   ]
  },
  {
   "cell_type": "code",
   "execution_count": null,
   "metadata": {
    "id": "8pTExclrW0gX"
   },
   "outputs": [],
   "source": [
    "# Retrieve the intercept (bias term) of the trained LinearRegression model\n"
   ]
  },
  {
   "cell_type": "code",
   "execution_count": null,
   "metadata": {
    "id": "u98_q1PgOOUR"
   },
   "outputs": [],
   "source": [
    "# Manually calculate and display the predicted value for the first test sample (X_test_scaled[0])"
   ]
  },
  {
   "cell_type": "markdown",
   "metadata": {
    "id": "kXgl5zNdW0gY"
   },
   "source": [
    "## Results interpretation\n",
    "\n",
    "- Weights (coef_)\n",
    "- Bias (intercept_)\n",
    "\n",
    "- **R-squared** measures the proportion of the variation in your dependent variable (Y) explained by your independent variables (X) for a linear regression model\n",
    "- **Adjusted R-squared** adjusts the statistic based on the number of independent variables in the model"
   ]
  },
  {
   "cell_type": "markdown",
   "metadata": {
    "id": "XhdumH-yW0gY"
   },
   "source": [
    "**What does that mean?**\n",
    "\n",
    "* $R^2$ is a measure of fit.  \n",
    "  \n",
    "* It indicates how much variation of a dependent variable is explained by the independent variables.\n",
    "  \n",
    "* An R-squared of 100% means that $y$ is completely explained by the independent variables.\n"
   ]
  },
  {
   "cell_type": "markdown",
   "metadata": {
    "id": "b6yhHKjlW0gY"
   },
   "source": [
    "$R^2 = 1 - \\frac{Unexplained Variation}{TotalVariation}$"
   ]
  },
  {
   "cell_type": "markdown",
   "metadata": {
    "id": "Xq6prBbWW0gY"
   },
   "source": [
    "$R^2 = 1 - \\frac{RSS}{TSS}$\n",
    "\n",
    "$R^2\t=\t$   coefficient of determination    \n",
    "$RSS\t=\t$  sum of squares of residuals   \n",
    "$$RSS =\\sum_{i=1}^{n}(y_{i}-{\\hat{y}})^{2}$$   \n",
    "$TSS\t=\t$   total sum of squares   \n",
    "$$TSS=\\sum_{i=1}^{n}(y_{i}-\\bar{y})^{2}$$\n",
    "$\\bar{y}$ = mean value"
   ]
  },
  {
   "cell_type": "markdown",
   "metadata": {
    "id": "S0B5vD-jW0gY"
   },
   "source": [
    "Thus,\n",
    "\n",
    "$$\n",
    "R^2 = 1 - \\frac{\\sum_{i=1}^{n}(y_{i}-{\\hat{y}})^{2}}{\\sum_{i=1}^{n}(y_{i}-\\bar{y})^{2}}\n",
    "$$"
   ]
  },
  {
   "cell_type": "code",
   "execution_count": null,
   "metadata": {
    "colab": {
     "base_uri": "https://localhost:8080/"
    },
    "id": "uCeqj9usW0gY",
    "outputId": "33484c24-918a-4892-efca-118e6b5e905d"
   },
   "outputs": [
    {
     "data": {
      "text/plain": [
       "0.6032930801870925"
      ]
     },
     "execution_count": 55,
     "metadata": {},
     "output_type": "execute_result"
    }
   ],
   "source": [
    "# Evaluate the performance of the LinearRegression model on the scaled test data\n"
   ]
  },
  {
   "cell_type": "markdown",
   "metadata": {
    "id": "yLw-ZJ_pW0gY"
   },
   "source": [
    "## Understanding $R^2$"
   ]
  },
  {
   "cell_type": "code",
   "execution_count": null,
   "metadata": {
    "id": "50ZiDj-dW0gY"
   },
   "outputs": [],
   "source": [
    "# Generating a sequence of n points and target values with a linear relationship to x.\n",
    "\n",
    "#plot the data points\n",
    "\n"
   ]
  },
  {
   "cell_type": "code",
   "execution_count": null,
   "metadata": {
    "id": "UNj0e-q5W0gY"
   },
   "outputs": [],
   "source": [
    "# Define a function to create a plot that visualizes the data, the fitted model, and the residuals\n",
    "\n"
   ]
  },
  {
   "cell_type": "code",
   "execution_count": null,
   "metadata": {
    "id": "cnImoxUCW0gZ",
    "scrolled": true
   },
   "outputs": [],
   "source": [
    "#Apply linear regression\n"
   ]
  },
  {
   "cell_type": "markdown",
   "metadata": {
    "id": "NybMrXJ4W0gZ"
   },
   "source": [
    "## Polynomial regression\n",
    "\n",
    "### Non-linear regression motivation\n",
    "- Linear regression might seem rather limited.\n",
    "- What if the true relationship between the target and the features is non-linear?\n",
    "\n",
    "\n",
    "**We still use the linear regression framework, but create quadratic, cubic etc. features**"
   ]
  },
  {
   "cell_type": "markdown",
   "metadata": {
    "id": "VEJrJJlsW0gZ"
   },
   "source": [
    "## Let's see an example"
   ]
  },
  {
   "cell_type": "code",
   "execution_count": null,
   "metadata": {
    "id": "rVBAf21mW0gZ"
   },
   "outputs": [],
   "source": [
    "   #initialize x and y\n",
    "\n",
    "    # transforming the data to include another axis\n"
   ]
  },
  {
   "cell_type": "code",
   "execution_count": null,
   "metadata": {
    "id": "TkABV6TzW0gZ"
   },
   "outputs": [],
   "source": [
    "#plot scatter graph"
   ]
  },
  {
   "cell_type": "markdown",
   "metadata": {
    "id": "eDT17zmDW0gZ"
   },
   "source": [
    "## Fitting a linear regression line"
   ]
  },
  {
   "cell_type": "code",
   "execution_count": null,
   "metadata": {
    "id": "0goKZYaGW0gZ"
   },
   "outputs": [],
   "source": [
    "#Apply linear Regression\n"
   ]
  },
  {
   "cell_type": "markdown",
   "metadata": {
    "id": "RI_YpAESW0gZ"
   },
   "source": [
    "## Using polynomial features"
   ]
  },
  {
   "cell_type": "code",
   "execution_count": null,
   "metadata": {
    "id": "au1ckk4YW0gZ"
   },
   "outputs": [],
   "source": [
    "#import libraries\n"
   ]
  },
  {
   "cell_type": "code",
   "execution_count": null,
   "metadata": {
    "id": "XX1co6tEW0gZ",
    "scrolled": true
   },
   "outputs": [],
   "source": [
    "#Generating Polynomial Features and Creating a DataFrame with Target Variable\n"
   ]
  },
  {
   "cell_type": "code",
   "execution_count": null,
   "metadata": {
    "id": "60PNstgrW0gZ"
   },
   "outputs": [],
   "source": [
    "# Displaying the first 5 rows of the DataFrame containing polynomial features and target variable\n"
   ]
  },
  {
   "cell_type": "markdown",
   "metadata": {
    "id": "wITu3ItFW0gZ"
   },
   "source": [
    "## Fitting polynomial features\n"
   ]
  },
  {
   "cell_type": "markdown",
   "metadata": {
    "id": "hMb-pFgzW0ga"
   },
   "source": [
    "What sklearn does is - If you substitute $x^2$ as another variable such as `m`, then the equation now is:\n",
    "\n",
    "`y=w*m + b`  \n",
    "\n",
    "The relation between `y` and `m` is linear but it is not linear between `x` and `y`.\n",
    "\n",
    "Because of this \"technically\", it is linear regression just the variables between which it happens is $x^2$ (`m`) and `y` and not `x` and `y`."
   ]
  },
  {
   "cell_type": "code",
   "execution_count": null,
   "metadata": {
    "id": "2QzJNxVIW0ga"
   },
   "outputs": [],
   "source": [
    "# Fitting a Linear Regression model using the polynomial features\n"
   ]
  },
  {
   "cell_type": "code",
   "execution_count": null,
   "metadata": {
    "id": "QlLvm9ixW0ga"
   },
   "outputs": [],
   "source": [
    "# Displaying the coefficients of the polynomial regression model\n"
   ]
  },
  {
   "cell_type": "code",
   "execution_count": null,
   "metadata": {
    "id": "seI0COnVW0ga"
   },
   "outputs": [],
   "source": [
    "# Displaying the intercept of the polynomial regression model\n"
   ]
  },
  {
   "cell_type": "code",
   "execution_count": null,
   "metadata": {},
   "outputs": [],
   "source": []
  }
 ],
 "metadata": {
  "celltoolbar": "Slideshow",
  "colab": {
   "provenance": []
  },
  "kernelspec": {
   "display_name": "Python 3 (ipykernel)",
   "language": "python",
   "name": "python3"
  },
  "language_info": {
   "codemirror_mode": {
    "name": "ipython",
    "version": 3
   },
   "file_extension": ".py",
   "mimetype": "text/x-python",
   "name": "python",
   "nbconvert_exporter": "python",
   "pygments_lexer": "ipython3",
   "version": "3.12.3"
  }
 },
 "nbformat": 4,
 "nbformat_minor": 4
}
